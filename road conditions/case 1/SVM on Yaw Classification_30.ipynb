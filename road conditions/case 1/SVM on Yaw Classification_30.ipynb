{
 "cells": [
  {
   "cell_type": "markdown",
   "metadata": {},
   "source": [
    "### Predictive Model with SVM"
   ]
  },
  {
   "cell_type": "code",
   "execution_count": 1,
   "metadata": {},
   "outputs": [],
   "source": [
    "%matplotlib inline\n",
    "import matplotlib.pyplot as plt\n",
    "\n",
    "#Load libraries for data processing\n",
    "import pandas as pd #data processing, CSV file I/O (e.g. pd.read_csv)\n",
    "import numpy as np\n",
    "from scipy.stats import norm\n",
    "\n",
    "## Supervised learning.\n",
    "from sklearn.preprocessing import StandardScaler\n",
    "from sklearn.preprocessing import LabelEncoder\n",
    "from sklearn.model_selection import train_test_split\n",
    "from sklearn.svm import SVC\n",
    "from sklearn.model_selection import cross_val_score\n",
    "from sklearn.pipeline import make_pipeline\n",
    "from sklearn.metrics import confusion_matrix\n",
    "from sklearn import metrics, preprocessing\n",
    "from sklearn.metrics import classification_report\n",
    "\n",
    "from scipy.io import loadmat \n",
    "\n",
    "# visualization\n",
    "import seaborn as sns \n",
    "plt.style.use('fivethirtyeight')\n",
    "sns.set_style(\"white\")\n",
    "\n",
    "plt.rcParams['figure.figsize'] = (8,4)"
   ]
  },
  {
   "cell_type": "code",
   "execution_count": 2,
   "metadata": {},
   "outputs": [],
   "source": [
    "xx=loadmat('./wk_30_new.mat')"
   ]
  },
  {
   "cell_type": "code",
   "execution_count": 3,
   "metadata": {},
   "outputs": [
    {
     "data": {
      "text/plain": [
       "{'__header__': b'MATLAB 5.0 MAT-file, Platform: PCWIN64, Created on: Tue Oct 31 01:59:05 2023',\n",
       " '__version__': '1.0',\n",
       " '__globals__': [],\n",
       " 'wk_30': array([[ 3.09123000e-01,  1.89735000e-01,  2.65190000e-02, ...,\n",
       "          2.83401190e+01,  7.53646780e+01,  2.00000000e+00],\n",
       "        [-2.18090000e-02,  6.43510000e-02,  3.30059000e-01, ...,\n",
       "          2.82928060e+01,  7.51611860e+01,  1.00000000e+00],\n",
       "        [ 2.12515000e-01, -1.08309000e-01,  4.31239000e-01, ...,\n",
       "          2.82928060e+01,  7.54016760e+01,  2.00000000e+00],\n",
       "        ...,\n",
       "        [-1.56420000e-02,  6.64060000e-02,  1.28757823e+02, ...,\n",
       "          0.00000000e+00,  7.54325080e+01,  2.00000000e+00],\n",
       "        [-8.75840000e-02, -5.89780000e-02,  1.28535226e+02, ...,\n",
       "          0.00000000e+00,  7.55805020e+01,  2.00000000e+00],\n",
       "        [-9.99170000e-02,  1.42459000e-01,  1.28383456e+02, ...,\n",
       "          0.00000000e+00,  7.54386750e+01,  2.00000000e+00]])}"
      ]
     },
     "execution_count": 3,
     "metadata": {},
     "output_type": "execute_result"
    }
   ],
   "source": [
    "xx"
   ]
  },
  {
   "cell_type": "code",
   "execution_count": null,
   "metadata": {},
   "outputs": [],
   "source": [
    "xx.keys()"
   ]
  },
  {
   "cell_type": "code",
   "execution_count": 4,
   "metadata": {},
   "outputs": [],
   "source": [
    "df=xx['wk_30']\n",
    "df2=xx['wk_30']"
   ]
  },
  {
   "cell_type": "code",
   "execution_count": 5,
   "metadata": {},
   "outputs": [],
   "source": [
    "X=df[:,:8]"
   ]
  },
  {
   "cell_type": "code",
   "execution_count": 6,
   "metadata": {},
   "outputs": [],
   "source": [
    "y=df2[:,-1]"
   ]
  },
  {
   "cell_type": "code",
   "execution_count": 7,
   "metadata": {},
   "outputs": [
    {
     "data": {
      "text/plain": [
       "(6000, 8)"
      ]
     },
     "execution_count": 7,
     "metadata": {},
     "output_type": "execute_result"
    }
   ],
   "source": [
    "X.shape"
   ]
  },
  {
   "cell_type": "code",
   "execution_count": 8,
   "metadata": {},
   "outputs": [
    {
     "data": {
      "text/plain": [
       "(6000,)"
      ]
     },
     "execution_count": 8,
     "metadata": {},
     "output_type": "execute_result"
    }
   ],
   "source": [
    "y.shape"
   ]
  },
  {
   "cell_type": "code",
   "execution_count": 9,
   "metadata": {},
   "outputs": [
    {
     "data": {
      "text/plain": [
       "array([[ 3.09123000e-01,  1.89735000e-01,  2.65190000e-02, ...,\n",
       "         2.96704654e+03,  2.85293680e+01,  2.83401190e+01],\n",
       "       [-2.18090000e-02,  6.43510000e-02,  3.30059000e-01, ...,\n",
       "         2.96705440e+03,  2.84820560e+01,  2.82928060e+01],\n",
       "       [ 2.12515000e-01, -1.08309000e-01,  4.31239000e-01, ...,\n",
       "         2.96706226e+03,  2.84347440e+01,  2.82928060e+01],\n",
       "       ...,\n",
       "       [-1.56420000e-02,  6.64060000e-02,  1.28757823e+02, ...,\n",
       "         2.99578712e+03,  0.00000000e+00,  0.00000000e+00],\n",
       "       [-8.75840000e-02, -5.89780000e-02,  1.28535226e+02, ...,\n",
       "         2.99578712e+03,  0.00000000e+00,  0.00000000e+00],\n",
       "       [-9.99170000e-02,  1.42459000e-01,  1.28383456e+02, ...,\n",
       "         2.99578712e+03,  0.00000000e+00,  0.00000000e+00]])"
      ]
     },
     "execution_count": 9,
     "metadata": {},
     "output_type": "execute_result"
    }
   ],
   "source": [
    "X"
   ]
  },
  {
   "cell_type": "code",
   "execution_count": 10,
   "metadata": {},
   "outputs": [
    {
     "data": {
      "text/plain": [
       "array([2., 1., 2., ..., 2., 2., 2.])"
      ]
     },
     "execution_count": 10,
     "metadata": {},
     "output_type": "execute_result"
    }
   ],
   "source": [
    "y"
   ]
  },
  {
   "cell_type": "code",
   "execution_count": 12,
   "metadata": {},
   "outputs": [
    {
     "name": "stdout",
     "output_type": "stream",
     "text": [
      "{2.0: 3962, 1.0: 2038}\n"
     ]
    }
   ],
   "source": [
    "import collections\n",
    "frequency = collections.Counter(y)\n",
    "print(dict(frequency))"
   ]
  },
  {
   "cell_type": "code",
   "execution_count": 13,
   "metadata": {},
   "outputs": [
    {
     "data": {
      "text/plain": [
       "DescribeResult(nobs=6000, minmax=(array([-5.03305400e+00, -3.49367400e+00, -5.19853000e-01, -3.84444000e-01,\n",
       "        3.07729920e+03,  2.96704654e+03, -2.74411800e+00, -2.50755600e+00]), array([   6.837303,    4.134187,  141.071436,  142.993542, 3106.082675,\n",
       "       2995.787596,   28.623993,   28.623993])), mean=array([-1.66863492e-02, -5.39768400e-03,  3.25982676e+01,  3.39340208e+01,\n",
       "        3.09705385e+03,  2.98678963e+03,  1.72745720e+01,  1.72490706e+01]), variance=array([2.12902525e-01, 1.30884768e-01, 2.26892049e+03, 2.37377516e+03,\n",
       "       8.74650140e+01, 8.73161308e+01, 1.58821322e+02, 1.58858465e+02]), skewness=array([ 0.85503852,  0.00358867,  1.27360007,  1.21416113, -0.64888808,\n",
       "       -0.64987555, -0.4198439 , -0.41743412]), kurtosis=array([32.56987838, 16.37916128,  0.06479804, -0.11098028, -1.03009386,\n",
       "       -1.02947318, -1.66615633, -1.66962919]))"
      ]
     },
     "execution_count": 13,
     "metadata": {},
     "output_type": "execute_result"
    }
   ],
   "source": [
    "from scipy import stats\n",
    "stats.describe(X)"
   ]
  },
  {
   "cell_type": "code",
   "execution_count": 14,
   "metadata": {},
   "outputs": [],
   "source": [
    "#transform the class labels from their original string representation (M and B) into integers\n",
    "le = LabelEncoder()\n",
    "y = le.fit_transform(y)\n",
    "\n",
    "# Normalize the  data (center around 0 and scale to remove the variance).\n",
    "scaler =StandardScaler()\n",
    "Xs = scaler.fit_transform(X)"
   ]
  },
  {
   "cell_type": "code",
   "execution_count": 15,
   "metadata": {},
   "outputs": [
    {
     "data": {
      "text/plain": [
       "array([[ 0.70617011,  0.53941331, -0.68386067, ..., -2.11302157,\n",
       "         0.89313975,  0.88004244],\n",
       "       [-0.01110301,  0.19280916, -0.6774877 , ..., -2.11218046,\n",
       "         0.88938525,  0.87628829],\n",
       "       [ 0.49677869, -0.28448199, -0.67536337, ..., -2.11133934,\n",
       "         0.88563074,  0.87628829],\n",
       "       ...,\n",
       "       [ 0.00226356,  0.19848988,  2.0189195 , ...,  0.96296522,\n",
       "        -1.37084731, -1.36866359],\n",
       "       [-0.15366595, -0.14811427,  2.01424596, ...,  0.96296522,\n",
       "        -1.37084731, -1.36866359],\n",
       "       [-0.1803969 ,  0.40872632,  2.01105947, ...,  0.96296522,\n",
       "        -1.37084731, -1.36866359]])"
      ]
     },
     "execution_count": 15,
     "metadata": {},
     "output_type": "execute_result"
    }
   ],
   "source": [
    "Xs"
   ]
  },
  {
   "cell_type": "code",
   "execution_count": 16,
   "metadata": {},
   "outputs": [],
   "source": [
    "# compare the number of repeats for repeated k-fold cross-validation\n",
    "from scipy.stats import sem\n",
    "from numpy import mean\n",
    "from numpy import std\n",
    "from sklearn.datasets import make_classification\n",
    "from sklearn.model_selection import RepeatedKFold\n",
    "from sklearn.model_selection import cross_val_score\n",
    "from matplotlib import pyplot"
   ]
  },
  {
   "cell_type": "code",
   "execution_count": null,
   "metadata": {},
   "outputs": [],
   "source": [
    "# evaluate a model with a given number of repeats\n",
    "clf = SVC(probability=True)\n",
    "def evaluate_model_acc(X, y, repeats):\n",
    "    # prepare the cross-validation procedure\n",
    "    cv = RepeatedKFold(n_splits=10, n_repeats=repeats, random_state=1)\n",
    "    # create model\n",
    "    # model = LogisticRegression()\n",
    "    # evaluate model\n",
    "    scores = cross_val_score(clf, X, y, scoring='accuracy', cv=cv, n_jobs=-1)\n",
    "    return scores\n",
    " \n",
    "def evaluate_model_apr(X, y, repeats):\n",
    "    # prepare the cross-validation procedure\n",
    "    cv = RepeatedKFold(n_splits=10, n_repeats=repeats, random_state=1)\n",
    "    # create model\n",
    "    # model = LogisticRegression()\n",
    "    # evaluate model\n",
    "    scores = cross_val_score(clf, X, y, scoring='average_precision', cv=cv, n_jobs=-1)\n",
    "    return scores\n",
    "\n",
    "def evaluate_model_f1(X, y, repeats):\n",
    "    # prepare the cross-validation procedure\n",
    "    cv = RepeatedKFold(n_splits=10, n_repeats=repeats, random_state=1)\n",
    "    # create model\n",
    "    # model = LogisticRegression()\n",
    "    # evaluate model\n",
    "    scores = cross_val_score(clf, X, y, scoring='f1', cv=cv, n_jobs=-1)\n",
    "    return scores\n",
    "\n",
    "def evaluate_model_recall(X, y, repeats):\n",
    "    # prepare the cross-validation procedure\n",
    "    cv = RepeatedKFold(n_splits=10, n_repeats=repeats, random_state=1)\n",
    "    # create model\n",
    "    # model = LogisticRegression()\n",
    "    # evaluate model\n",
    "    scores = cross_val_score(clf, X, y, scoring='recall', cv=cv, n_jobs=-1)\n",
    "    return scores\n",
    "\n",
    "# configurations to test\n",
    "repeats = range(1,4)\n",
    "results_acc = list()\n",
    "results_apr = list()\n",
    "results_f1 = list()\n",
    "results_recall = list()\n",
    "\n",
    "for r in repeats:\n",
    "    # evaluate using a given number of repeats\n",
    "    scores_acc = evaluate_model_acc(Xs, y, r)\n",
    "    scores_apr = evaluate_model_apr(Xs, y, r)\n",
    "    scores_f1 = evaluate_model_f1(Xs, y, r)\n",
    "    scores_recall = evaluate_model_recall(Xs, y, r)\n",
    "    # summarize\n",
    "    print('>%d mean=%.4f se=%.3f std=%.3f' % (r, mean(scores_acc), sem(scores_acc), std(scores_acc)))\n",
    "    print('>%d mean=%.4f se=%.3f std=%.3f' % (r, mean(scores_apr), sem(scores_apr), std(scores_apr)))\n",
    "    print('>%d mean=%.4f se=%.3f std=%.3f' % (r, mean(scores_f1), sem(scores_f1), std(scores_f1)))\n",
    "    print('>%d mean=%.4f se=%.3f std=%.3f' % (r, mean(scores_recall), sem(scores_recall),std(scores_recall)))\n",
    "    # store\n",
    "    results_acc.append(scores_acc)\n",
    "    results_apr.append(scores_apr)\n",
    "    results_f1.append(scores_f1)\n",
    "    results_recall.append(scores_recall)\n",
    "# plot the results\n",
    "pyplot.boxplot(results_acc, labels=[str(r) for r in repeats], showmeans=True)\n",
    "pyplot.show()"
   ]
  },
  {
   "cell_type": "code",
   "execution_count": null,
   "metadata": {},
   "outputs": [],
   "source": [
    "clf = SVC(probability=True)\n",
    "X_train, X_test, y_train, y_test = train_test_split(Xs, y, test_size=0.3, random_state=2, stratify=y)\n",
    "y_pred = clf.fit(X_train, y_train).predict(X_test)\n",
    "cm = metrics.confusion_matrix(y_test, y_pred)\n",
    "cm"
   ]
  },
  {
   "cell_type": "code",
   "execution_count": null,
   "metadata": {},
   "outputs": [],
   "source": [
    "print(classification_report(y_test, y_pred ))"
   ]
  },
  {
   "cell_type": "code",
   "execution_count": null,
   "metadata": {},
   "outputs": [],
   "source": []
  }
 ],
 "metadata": {
  "kernelspec": {
   "display_name": "Python 3",
   "language": "python",
   "name": "python3"
  },
  "language_info": {
   "codemirror_mode": {
    "name": "ipython",
    "version": 3
   },
   "file_extension": ".py",
   "mimetype": "text/x-python",
   "name": "python",
   "nbconvert_exporter": "python",
   "pygments_lexer": "ipython3",
   "version": "3.9.2"
  }
 },
 "nbformat": 4,
 "nbformat_minor": 2
}
