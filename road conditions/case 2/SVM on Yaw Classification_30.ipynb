{
 "cells": [
  {
   "cell_type": "markdown",
   "metadata": {},
   "source": [
    "### Predictive Model with SVM"
   ]
  },
  {
   "cell_type": "code",
   "execution_count": 1,
   "metadata": {},
   "outputs": [],
   "source": [
    "%matplotlib inline\n",
    "import matplotlib.pyplot as plt\n",
    "\n",
    "#Load libraries for data processing\n",
    "import pandas as pd #data processing, CSV file I/O (e.g. pd.read_csv)\n",
    "import numpy as np\n",
    "from scipy.stats import norm\n",
    "\n",
    "## Supervised learning.\n",
    "from sklearn.preprocessing import StandardScaler\n",
    "from sklearn.preprocessing import LabelEncoder\n",
    "from sklearn.model_selection import train_test_split\n",
    "from sklearn.svm import SVC\n",
    "from sklearn.model_selection import cross_val_score\n",
    "from sklearn.pipeline import make_pipeline\n",
    "from sklearn.metrics import confusion_matrix\n",
    "from sklearn import metrics, preprocessing\n",
    "from sklearn.metrics import classification_report\n",
    "\n",
    "from scipy.io import loadmat \n",
    "\n",
    "# visualization\n",
    "import seaborn as sns \n",
    "plt.style.use('fivethirtyeight')\n",
    "sns.set_style(\"white\")\n",
    "\n",
    "plt.rcParams['figure.figsize'] = (8,4)"
   ]
  },
  {
   "cell_type": "code",
   "execution_count": 2,
   "metadata": {},
   "outputs": [],
   "source": [
    "xx=loadmat('./kw_30_new.mat')"
   ]
  },
  {
   "cell_type": "code",
   "execution_count": 3,
   "metadata": {},
   "outputs": [
    {
     "data": {
      "text/plain": [
       "{'__header__': b'MATLAB 5.0 MAT-file, Platform: PCWIN64, Created on: Tue Oct 31 02:25:00 2023',\n",
       " '__version__': '1.0',\n",
       " '__globals__': [],\n",
       " 'kw_30': array([[ 2.59791000e-01,  1.40403000e-01,  4.67550000e-02, ...,\n",
       "          2.89551800e+01,  7.49638600e+01,  1.00000000e+00],\n",
       "        [ 4.01619000e-01, -7.54210000e-02,  2.99705000e-01, ...,\n",
       "          2.89551800e+01,  7.46740390e+01,  1.00000000e+00],\n",
       "        [-1.35870000e-02,  1.70750000e-02,  5.02065000e-01, ...,\n",
       "          2.89551800e+01,  7.48651980e+01,  1.00000000e+00],\n",
       "        ...,\n",
       "        [-2.59200000e-02, -3.48000000e-03,  1.22606076e+02, ...,\n",
       "          0.00000000e+00,  7.54571740e+01,  2.00000000e+00],\n",
       "        [ 2.85700000e-03,  1.91300000e-02,  1.22484660e+02, ...,\n",
       "          0.00000000e+00,  7.53153460e+01,  2.00000000e+00],\n",
       "        [ 1.51900000e-02,  3.76300000e-02,  1.22606076e+02, ...,\n",
       "          0.00000000e+00,  7.53523450e+01,  2.00000000e+00]])}"
      ]
     },
     "execution_count": 3,
     "metadata": {},
     "output_type": "execute_result"
    }
   ],
   "source": [
    "xx"
   ]
  },
  {
   "cell_type": "code",
   "execution_count": 4,
   "metadata": {},
   "outputs": [
    {
     "data": {
      "text/plain": [
       "dict_keys(['__header__', '__version__', '__globals__', 'kw_30'])"
      ]
     },
     "execution_count": 4,
     "metadata": {},
     "output_type": "execute_result"
    }
   ],
   "source": [
    "xx.keys()"
   ]
  },
  {
   "cell_type": "code",
   "execution_count": 5,
   "metadata": {},
   "outputs": [],
   "source": [
    "df=xx['kw_30']\n",
    "df2=xx['kw_30']"
   ]
  },
  {
   "cell_type": "code",
   "execution_count": 6,
   "metadata": {},
   "outputs": [],
   "source": [
    "X=df[:,:8]"
   ]
  },
  {
   "cell_type": "code",
   "execution_count": 7,
   "metadata": {},
   "outputs": [],
   "source": [
    "y=df2[:,-1]"
   ]
  },
  {
   "cell_type": "code",
   "execution_count": 8,
   "metadata": {},
   "outputs": [
    {
     "data": {
      "text/plain": [
       "(6900, 8)"
      ]
     },
     "execution_count": 8,
     "metadata": {},
     "output_type": "execute_result"
    }
   ],
   "source": [
    "X.shape"
   ]
  },
  {
   "cell_type": "code",
   "execution_count": 9,
   "metadata": {},
   "outputs": [
    {
     "data": {
      "text/plain": [
       "(6900,)"
      ]
     },
     "execution_count": 9,
     "metadata": {},
     "output_type": "execute_result"
    }
   ],
   "source": [
    "y.shape"
   ]
  },
  {
   "cell_type": "code",
   "execution_count": 10,
   "metadata": {},
   "outputs": [
    {
     "data": {
      "text/plain": [
       "array([[ 2.59791000e-01,  1.40403000e-01,  4.67550000e-02, ...,\n",
       "         4.63985703e+03,  2.90498050e+01,  2.89551800e+01],\n",
       "       [ 4.01619000e-01, -7.54210000e-02,  2.99705000e-01, ...,\n",
       "         4.63986507e+03,  2.90024920e+01,  2.89551800e+01],\n",
       "       [-1.35870000e-02,  1.70750000e-02,  5.02065000e-01, ...,\n",
       "         4.63987312e+03,  2.89551800e+01,  2.89551800e+01],\n",
       "       ...,\n",
       "       [-2.59200000e-02, -3.48000000e-03,  1.22606076e+02, ...,\n",
       "         4.67972150e+03,  0.00000000e+00,  0.00000000e+00],\n",
       "       [ 2.85700000e-03,  1.91300000e-02,  1.22484660e+02, ...,\n",
       "         4.67972150e+03,  0.00000000e+00,  0.00000000e+00],\n",
       "       [ 1.51900000e-02,  3.76300000e-02,  1.22606076e+02, ...,\n",
       "         4.67972150e+03,  0.00000000e+00,  0.00000000e+00]])"
      ]
     },
     "execution_count": 10,
     "metadata": {},
     "output_type": "execute_result"
    }
   ],
   "source": [
    "X"
   ]
  },
  {
   "cell_type": "code",
   "execution_count": 11,
   "metadata": {},
   "outputs": [
    {
     "data": {
      "text/plain": [
       "array([1., 1., 1., ..., 2., 2., 2.])"
      ]
     },
     "execution_count": 11,
     "metadata": {},
     "output_type": "execute_result"
    }
   ],
   "source": [
    "y"
   ]
  },
  {
   "cell_type": "code",
   "execution_count": 12,
   "metadata": {},
   "outputs": [
    {
     "name": "stdout",
     "output_type": "stream",
     "text": [
      "{1.0: 3104, 2.0: 3796}\n"
     ]
    }
   ],
   "source": [
    "import collections\n",
    "frequency = collections.Counter(y)\n",
    "print(dict(frequency))"
   ]
  },
  {
   "cell_type": "code",
   "execution_count": 13,
   "metadata": {},
   "outputs": [
    {
     "data": {
      "text/plain": [
       "DescribeResult(nobs=6900, minmax=(array([-5.78946900e+00, -2.99008300e+00, -7.32331000e-01, -4.80317000e-01,\n",
       "        4.82455416e+03,  4.63985703e+03, -2.03443300e+00, -1.79787100e+00]), array([4.65028100e+00, 2.92762500e+00, 1.31337914e+02, 1.31802073e+02,\n",
       "       4.86450239e+03, 4.67972150e+03, 2.92390540e+01, 2.92390540e+01])), mean=array([-1.63508535e-02, -3.56452565e-03,  2.80650775e+01,  3.01091244e+01,\n",
       "        4.84993212e+03,  4.66518658e+03,  2.08462690e+01,  2.08030502e+01]), variance=array([1.69230228e-01, 1.27518879e-01, 1.93256585e+03, 2.12591922e+03,\n",
       "       1.71666062e+02, 1.70896166e+02, 1.40177372e+02, 1.39322502e+02]), skewness=array([-0.13304519, -0.05653312,  1.23703568,  1.17086311, -0.39351391,\n",
       "       -0.39491259, -0.98740796, -0.98100431]), kurtosis=array([27.17274389, 14.99662726, -0.05796991, -0.28096028, -1.25619614,\n",
       "       -1.25516708, -0.8638324 , -0.86621556]))"
      ]
     },
     "execution_count": 13,
     "metadata": {},
     "output_type": "execute_result"
    }
   ],
   "source": [
    "from scipy import stats\n",
    "stats.describe(X)"
   ]
  },
  {
   "cell_type": "code",
   "execution_count": 14,
   "metadata": {},
   "outputs": [],
   "source": [
    "#transform the class labels from their original string representation (M and B) into integers\n",
    "le = LabelEncoder()\n",
    "y = le.fit_transform(y)\n",
    "\n",
    "# Normalize the  data (center around 0 and scale to remove the variance).\n",
    "scaler =StandardScaler()\n",
    "Xs = scaler.fit_transform(X)"
   ]
  },
  {
   "cell_type": "code",
   "execution_count": 15,
   "metadata": {},
   "outputs": [
    {
     "data": {
      "text/plain": [
       "array([[ 6.71312507e-01,  4.03189089e-01, -6.37391770e-01, ...,\n",
       "        -1.93772765e+00,  6.92936764e-01,  6.90703931e-01],\n",
       "       [ 1.01610236e+00, -2.01238066e-01, -6.31637384e-01, ...,\n",
       "        -1.93711236e+00,  6.88940326e-01,  6.90703931e-01],\n",
       "       [ 6.71904452e-03,  5.78021433e-02, -6.27033875e-01, ...,\n",
       "        -1.93649706e+00,  6.84943973e-01,  6.90703931e-01],\n",
       "       ...,\n",
       "       [-2.32629993e-02,  2.36718806e-04,  2.15072314e+00, ...,\n",
       "         1.11193146e+00, -1.76084389e+00, -1.76257602e+00],\n",
       "       [ 4.66951030e-02,  6.35572855e-02,  2.14796103e+00, ...,\n",
       "         1.11193146e+00, -1.76084389e+00, -1.76257602e+00],\n",
       "       [ 7.66771468e-02,  1.15367568e-01,  2.15072314e+00, ...,\n",
       "         1.11193146e+00, -1.76084389e+00, -1.76257602e+00]])"
      ]
     },
     "execution_count": 15,
     "metadata": {},
     "output_type": "execute_result"
    }
   ],
   "source": [
    "Xs"
   ]
  },
  {
   "cell_type": "code",
   "execution_count": 16,
   "metadata": {},
   "outputs": [],
   "source": [
    "# compare the number of repeats for repeated k-fold cross-validation\n",
    "from scipy.stats import sem\n",
    "from numpy import mean\n",
    "from numpy import std\n",
    "from sklearn.datasets import make_classification\n",
    "from sklearn.model_selection import RepeatedKFold\n",
    "from sklearn.model_selection import cross_val_score\n",
    "from matplotlib import pyplot"
   ]
  },
  {
   "cell_type": "code",
   "execution_count": null,
   "metadata": {},
   "outputs": [],
   "source": [
    "# evaluate a model with a given number of repeats\n",
    "clf = SVC(probability=True)\n",
    "def evaluate_model_acc(X, y, repeats):\n",
    "    # prepare the cross-validation procedure\n",
    "    cv = RepeatedKFold(n_splits=10, n_repeats=repeats, random_state=1)\n",
    "    # create model\n",
    "    # model = LogisticRegression()\n",
    "    # evaluate model\n",
    "    scores = cross_val_score(clf, X, y, scoring='accuracy', cv=cv, n_jobs=-1)\n",
    "    return scores\n",
    " \n",
    "def evaluate_model_apr(X, y, repeats):\n",
    "    # prepare the cross-validation procedure\n",
    "    cv = RepeatedKFold(n_splits=10, n_repeats=repeats, random_state=1)\n",
    "    # create model\n",
    "    # model = LogisticRegression()\n",
    "    # evaluate model\n",
    "    scores = cross_val_score(clf, X, y, scoring='average_precision', cv=cv, n_jobs=-1)\n",
    "    return scores\n",
    "\n",
    "def evaluate_model_f1(X, y, repeats):\n",
    "    # prepare the cross-validation procedure\n",
    "    cv = RepeatedKFold(n_splits=10, n_repeats=repeats, random_state=1)\n",
    "    # create model\n",
    "    # model = LogisticRegression()\n",
    "    # evaluate model\n",
    "    scores = cross_val_score(clf, X, y, scoring='f1', cv=cv, n_jobs=-1)\n",
    "    return scores\n",
    "\n",
    "def evaluate_model_recall(X, y, repeats):\n",
    "    # prepare the cross-validation procedure\n",
    "    cv = RepeatedKFold(n_splits=10, n_repeats=repeats, random_state=1)\n",
    "    # create model\n",
    "    # model = LogisticRegression()\n",
    "    # evaluate model\n",
    "    scores = cross_val_score(clf, X, y, scoring='recall', cv=cv, n_jobs=-1)\n",
    "    return scores\n",
    "\n",
    "# configurations to test\n",
    "repeats = range(1,4)\n",
    "results_acc = list()\n",
    "results_apr = list()\n",
    "results_f1 = list()\n",
    "results_recall = list()\n",
    "\n",
    "for r in repeats:\n",
    "    # evaluate using a given number of repeats\n",
    "    scores_acc = evaluate_model_acc(Xs, y, r)\n",
    "    scores_apr = evaluate_model_apr(Xs, y, r)\n",
    "    scores_f1 = evaluate_model_f1(Xs, y, r)\n",
    "    scores_recall = evaluate_model_recall(Xs, y, r)\n",
    "    # summarize\n",
    "    print('>%d mean=%.4f se=%.3f std=%.3f' % (r, mean(scores_acc), sem(scores_acc), std(scores_acc)))\n",
    "    print('>%d mean=%.4f se=%.3f std=%.3f' % (r, mean(scores_apr), sem(scores_apr), std(scores_apr)))\n",
    "    print('>%d mean=%.4f se=%.3f std=%.3f' % (r, mean(scores_f1), sem(scores_f1), std(scores_f1)))\n",
    "    print('>%d mean=%.4f se=%.3f std=%.3f' % (r, mean(scores_recall), sem(scores_recall),std(scores_recall)))\n",
    "    # store\n",
    "    results_acc.append(scores_acc)\n",
    "    results_apr.append(scores_apr)\n",
    "    results_f1.append(scores_f1)\n",
    "    results_recall.append(scores_recall)\n",
    "# plot the results\n",
    "pyplot.boxplot(results_acc, labels=[str(r) for r in repeats], showmeans=True)\n",
    "pyplot.show()"
   ]
  },
  {
   "cell_type": "code",
   "execution_count": 17,
   "metadata": {},
   "outputs": [
    {
     "data": {
      "text/plain": [
       "array([[466, 465],\n",
       "       [141, 998]])"
      ]
     },
     "execution_count": 17,
     "metadata": {},
     "output_type": "execute_result"
    }
   ],
   "source": [
    "clf = SVC(probability=True)\n",
    "X_train, X_test, y_train, y_test = train_test_split(Xs, y, test_size=0.3, random_state=2, stratify=y)\n",
    "y_pred = clf.fit(X_train, y_train).predict(X_test)\n",
    "cm = metrics.confusion_matrix(y_test, y_pred)\n",
    "cm"
   ]
  },
  {
   "cell_type": "code",
   "execution_count": 18,
   "metadata": {},
   "outputs": [
    {
     "name": "stdout",
     "output_type": "stream",
     "text": [
      "              precision    recall  f1-score   support\n",
      "\n",
      "           0       0.77      0.50      0.61       931\n",
      "           1       0.68      0.88      0.77      1139\n",
      "\n",
      "    accuracy                           0.71      2070\n",
      "   macro avg       0.72      0.69      0.69      2070\n",
      "weighted avg       0.72      0.71      0.69      2070\n",
      "\n"
     ]
    }
   ],
   "source": [
    "print(classification_report(y_test, y_pred ))"
   ]
  },
  {
   "cell_type": "code",
   "execution_count": null,
   "metadata": {},
   "outputs": [],
   "source": []
  }
 ],
 "metadata": {
  "kernelspec": {
   "display_name": "Python 3",
   "language": "python",
   "name": "python3"
  },
  "language_info": {
   "codemirror_mode": {
    "name": "ipython",
    "version": 3
   },
   "file_extension": ".py",
   "mimetype": "text/x-python",
   "name": "python",
   "nbconvert_exporter": "python",
   "pygments_lexer": "ipython3",
   "version": "3.9.2"
  }
 },
 "nbformat": 4,
 "nbformat_minor": 2
}
